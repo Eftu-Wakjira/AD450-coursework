{
 "cells": [
  {
   "cell_type": "code",
   "execution_count": 1,
   "id": "aa68b140",
   "metadata": {},
   "outputs": [],
   "source": [
    "# Import libraies"
   ]
  },
  {
   "cell_type": "code",
   "execution_count": 2,
   "id": "71058bb8",
   "metadata": {},
   "outputs": [],
   "source": [
    "from sklearn import datasets"
   ]
  },
  {
   "cell_type": "code",
   "execution_count": 3,
   "id": "d4d2004b",
   "metadata": {},
   "outputs": [],
   "source": [
    "import pandas as pd"
   ]
  },
  {
   "cell_type": "code",
   "execution_count": 4,
   "id": "c43b7069",
   "metadata": {},
   "outputs": [],
   "source": [
    "import json"
   ]
  },
  {
   "cell_type": "code",
   "execution_count": 5,
   "id": "473c77ec",
   "metadata": {},
   "outputs": [],
   "source": [
    "import numpy as np"
   ]
  },
  {
   "cell_type": "code",
   "execution_count": 6,
   "id": "aa0bcef2",
   "metadata": {},
   "outputs": [],
   "source": [
    "import matplotlib.pyplot as plt"
   ]
  },
  {
   "cell_type": "code",
   "execution_count": 7,
   "id": "b6ec4bd3",
   "metadata": {},
   "outputs": [],
   "source": [
    "import seaborn as sns"
   ]
  },
  {
   "cell_type": "code",
   "execution_count": 8,
   "id": "4514704a",
   "metadata": {},
   "outputs": [],
   "source": [
    "from sklearn.neighbors import KNeighborsClassifier"
   ]
  },
  {
   "cell_type": "code",
   "execution_count": 9,
   "id": "c2692a8f",
   "metadata": {},
   "outputs": [],
   "source": [
    "from sklearn.model_selection import train_test_split"
   ]
  },
  {
   "cell_type": "code",
   "execution_count": 10,
   "id": "746e5081",
   "metadata": {},
   "outputs": [],
   "source": [
    "#Import Test Dataset"
   ]
  },
  {
   "cell_type": "code",
   "execution_count": 11,
   "id": "3a2c12b4",
   "metadata": {},
   "outputs": [],
   "source": [
    "X_new = pd.DataFrame.from_dict({\"0\":{\"0\":0.6964691856},\"1\":{\"0\":0.286139335},\"2\":{\"0\":0.2268514536},\"3\":{\"0\":0.5513147691},\"4\":{\"0\":0.7194689698},\"5\":{\"0\":0.4231064601},\"6\":{\"0\":0.9807641984},\"7\":{\"0\":0.6848297386},\"8\":{\"0\":0.4809319015},\"9\":{\"0\":0.3921175182},\"10\":{\"0\":0.3431780162},\"11\":{\"0\":0.7290497074},\"12\":{\"0\":0.4385722447},\"13\":{\"0\":0.0596778966},\"14\":{\"0\":0.3980442553},\"15\":{\"0\":0.7379954057}})"
   ]
  },
  {
   "cell_type": "code",
   "execution_count": null,
   "id": "1f27b352",
   "metadata": {},
   "outputs": [],
   "source": []
  },
  {
   "cell_type": "code",
   "execution_count": 12,
   "id": "252424e9",
   "metadata": {},
   "outputs": [],
   "source": [
    "# Import JSON Data"
   ]
  },
  {
   "cell_type": "code",
   "execution_count": 13,
   "id": "f44da387",
   "metadata": {},
   "outputs": [],
   "source": [
    "dataset = pd.read_json('votes.json')"
   ]
  },
  {
   "cell_type": "code",
   "execution_count": null,
   "id": "0e455828",
   "metadata": {},
   "outputs": [],
   "source": []
  },
  {
   "cell_type": "code",
   "execution_count": 14,
   "id": "078631a4",
   "metadata": {},
   "outputs": [],
   "source": [
    "# Numerical EDA"
   ]
  },
  {
   "cell_type": "code",
   "execution_count": 15,
   "id": "db2d4dd5",
   "metadata": {},
   "outputs": [
    {
     "name": "stdout",
     "output_type": "stream",
     "text": [
      "        party  infants  water  budget  physician  salvador  religious  \\\n",
      "0  republican        0      1       0          1         1          1   \n",
      "1  republican        0      1       0          1         1          1   \n",
      "2    democrat        0      1       1          0         1          1   \n",
      "3    democrat        0      1       1          0         1          1   \n",
      "4    democrat        1      1       1          0         1          1   \n",
      "\n",
      "   satellite  aid  missile  immigration  synfuels  education  superfund  \\\n",
      "0          0    0        0            1         0          1          1   \n",
      "1          0    0        0            0         0          1          1   \n",
      "2          0    0        0            0         1          0          1   \n",
      "3          0    0        0            0         1          0          1   \n",
      "4          0    0        0            0         1          0          1   \n",
      "\n",
      "   crime  duty_free_exports  eaa_rsa  \n",
      "0      1                  0        1  \n",
      "1      1                  0        1  \n",
      "2      1                  0        0  \n",
      "3      0                  0        1  \n",
      "4      1                  1        1  \n"
     ]
    }
   ],
   "source": [
    "print(dataset.head())"
   ]
  },
  {
   "cell_type": "code",
   "execution_count": 16,
   "id": "1442f00a",
   "metadata": {},
   "outputs": [
    {
     "name": "stdout",
     "output_type": "stream",
     "text": [
      "<class 'pandas.core.frame.DataFrame'>\n",
      "Int64Index: 435 entries, 0 to 434\n",
      "Data columns (total 17 columns):\n",
      " #   Column             Non-Null Count  Dtype \n",
      "---  ------             --------------  ----- \n",
      " 0   party              435 non-null    object\n",
      " 1   infants            435 non-null    int64 \n",
      " 2   water              435 non-null    int64 \n",
      " 3   budget             435 non-null    int64 \n",
      " 4   physician          435 non-null    int64 \n",
      " 5   salvador           435 non-null    int64 \n",
      " 6   religious          435 non-null    int64 \n",
      " 7   satellite          435 non-null    int64 \n",
      " 8   aid                435 non-null    int64 \n",
      " 9   missile            435 non-null    int64 \n",
      " 10  immigration        435 non-null    int64 \n",
      " 11  synfuels           435 non-null    int64 \n",
      " 12  education          435 non-null    int64 \n",
      " 13  superfund          435 non-null    int64 \n",
      " 14  crime              435 non-null    int64 \n",
      " 15  duty_free_exports  435 non-null    int64 \n",
      " 16  eaa_rsa            435 non-null    int64 \n",
      "dtypes: int64(16), object(1)\n",
      "memory usage: 61.2+ KB\n",
      "None\n"
     ]
    }
   ],
   "source": [
    "print(dataset.info())"
   ]
  },
  {
   "cell_type": "code",
   "execution_count": 17,
   "id": "35a756da",
   "metadata": {},
   "outputs": [
    {
     "name": "stdout",
     "output_type": "stream",
     "text": [
      "          infants       water      budget   physician    salvador   religious  \\\n",
      "count  435.000000  435.000000  435.000000  435.000000  435.000000  435.000000   \n",
      "mean     0.429885    0.558621    0.606897    0.406897    0.521839    0.650575   \n",
      "std      0.495630    0.497123    0.489002    0.491821    0.500098    0.477337   \n",
      "min      0.000000    0.000000    0.000000    0.000000    0.000000    0.000000   \n",
      "25%      0.000000    0.000000    0.000000    0.000000    0.000000    0.000000   \n",
      "50%      0.000000    1.000000    1.000000    0.000000    1.000000    1.000000   \n",
      "75%      1.000000    1.000000    1.000000    1.000000    1.000000    1.000000   \n",
      "max      1.000000    1.000000    1.000000    1.000000    1.000000    1.000000   \n",
      "\n",
      "        satellite         aid     missile  immigration    synfuels  \\\n",
      "count  435.000000  435.000000  435.000000   435.000000  435.000000   \n",
      "mean     0.581609    0.590805    0.526437     0.512644    0.344828   \n",
      "std      0.493863    0.492252    0.499876     0.500416    0.475859   \n",
      "min      0.000000    0.000000    0.000000     0.000000    0.000000   \n",
      "25%      0.000000    0.000000    0.000000     0.000000    0.000000   \n",
      "50%      1.000000    1.000000    1.000000     1.000000    0.000000   \n",
      "75%      1.000000    1.000000    1.000000     1.000000    1.000000   \n",
      "max      1.000000    1.000000    1.000000     1.000000    1.000000   \n",
      "\n",
      "        education   superfund       crime  duty_free_exports     eaa_rsa  \n",
      "count  435.000000  435.000000  435.000000         435.000000  435.000000  \n",
      "mean     0.393103    0.537931    0.609195           0.400000    0.857471  \n",
      "std      0.489002    0.499133    0.488493           0.490462    0.349994  \n",
      "min      0.000000    0.000000    0.000000           0.000000    0.000000  \n",
      "25%      0.000000    0.000000    0.000000           0.000000    1.000000  \n",
      "50%      0.000000    1.000000    1.000000           0.000000    1.000000  \n",
      "75%      1.000000    1.000000    1.000000           1.000000    1.000000  \n",
      "max      1.000000    1.000000    1.000000           1.000000    1.000000  \n"
     ]
    }
   ],
   "source": [
    "print(dataset.describe())"
   ]
  },
  {
   "cell_type": "code",
   "execution_count": null,
   "id": "f9c30a0b",
   "metadata": {},
   "outputs": [],
   "source": []
  },
  {
   "cell_type": "code",
   "execution_count": 18,
   "id": "f044d23d",
   "metadata": {},
   "outputs": [],
   "source": [
    "# Visual EDA"
   ]
  },
  {
   "cell_type": "code",
   "execution_count": 19,
   "id": "48292c6b",
   "metadata": {},
   "outputs": [
    {
     "data": {
      "image/png": "[encoded data removed]",
      "text/plain": [
       "<Figure size 432x288 with 1 Axes>"
      ]
     },
     "metadata": {
      "needs_background": "light"
     },
     "output_type": "display_data"
    }
   ],
   "source": [
    "plt.figure()\n",
    "sns.countplot(x = 'education', hue = 'party', data = dataset, palette = 'RdBu')\n",
    "plt.xticks([0,1], ['No', 'Yes'])\n",
    "plt.show()"
   ]
  },
  {
   "cell_type": "code",
   "execution_count": null,
   "id": "fe2a4e52",
   "metadata": {},
   "outputs": [],
   "source": []
  },
  {
   "cell_type": "code",
   "execution_count": 20,
   "id": "12760313",
   "metadata": {},
   "outputs": [],
   "source": [
    "# Fit a k-Nearest neighbors classifier"
   ]
  },
  {
   "cell_type": "code",
   "execution_count": 21,
   "id": "d0250c4f",
   "metadata": {},
   "outputs": [],
   "source": [
    "Y = dataset['party'].values"
   ]
  },
  {
   "cell_type": "code",
   "execution_count": 22,
   "id": "f04960d8",
   "metadata": {},
   "outputs": [],
   "source": [
    "X = dataset.drop('party', axis = 1).values"
   ]
  },
  {
   "cell_type": "code",
   "execution_count": 23,
   "id": "84a0e595",
   "metadata": {},
   "outputs": [],
   "source": [
    "knn = KNeighborsClassifier(n_neighbors = 6)"
   ]
  },
  {
   "cell_type": "code",
   "execution_count": 24,
   "id": "4d387a0a",
   "metadata": {},
   "outputs": [
    {
     "data": {
      "text/plain": [
       "KNeighborsClassifier(n_neighbors=6)"
      ]
     },
     "execution_count": 24,
     "metadata": {},
     "output_type": "execute_result"
    }
   ],
   "source": [
    "knn.fit(X,Y)"
   ]
  },
  {
   "cell_type": "code",
   "execution_count": null,
   "id": "ad5ce49c",
   "metadata": {},
   "outputs": [],
   "source": []
  },
  {
   "cell_type": "code",
   "execution_count": 25,
   "id": "2c315b13",
   "metadata": {},
   "outputs": [],
   "source": [
    "# Predict k-Nearest neighbors with training data set"
   ]
  },
  {
   "cell_type": "code",
   "execution_count": 26,
   "id": "de9b34a6",
   "metadata": {},
   "outputs": [],
   "source": [
    "y_pred = knn.predict(X)"
   ]
  },
  {
   "cell_type": "code",
   "execution_count": 27,
   "id": "eae0cc1e",
   "metadata": {},
   "outputs": [],
   "source": [
    "new_prediction = knn.predict(X_new)"
   ]
  },
  {
   "cell_type": "code",
   "execution_count": 28,
   "id": "a90efcae",
   "metadata": {},
   "outputs": [
    {
     "name": "stdout",
     "output_type": "stream",
     "text": [
      "Prediction: ['democrat']\n"
     ]
    }
   ],
   "source": [
    "print(\"Prediction: {}\".format(new_prediction)) "
   ]
  },
  {
   "cell_type": "code",
   "execution_count": null,
   "id": "bcedd4b2",
   "metadata": {},
   "outputs": [],
   "source": []
  },
  {
   "cell_type": "code",
   "execution_count": 29,
   "id": "c694b567",
   "metadata": {},
   "outputs": [],
   "source": [
    "#Check model accuracy with test data set"
   ]
  },
  {
   "cell_type": "code",
   "execution_count": 30,
   "id": "91ed91ec",
   "metadata": {},
   "outputs": [],
   "source": [
    "digits = datasets.load_digits()"
   ]
  },
  {
   "cell_type": "code",
   "execution_count": 31,
   "id": "7997f45e",
   "metadata": {},
   "outputs": [],
   "source": [
    "X = digits.data"
   ]
  },
  {
   "cell_type": "code",
   "execution_count": 32,
   "id": "b460ea07",
   "metadata": {},
   "outputs": [],
   "source": [
    "Y = digits.target"
   ]
  },
  {
   "cell_type": "code",
   "execution_count": 33,
   "id": "a87bcc8b",
   "metadata": {},
   "outputs": [],
   "source": [
    "X_train,X_test,y_train, y_test = train_test_split(X, Y, test_size = 0.2, random_state = 42, stratify = Y)"
   ]
  },
  {
   "cell_type": "code",
   "execution_count": 34,
   "id": "9338a47b",
   "metadata": {},
   "outputs": [],
   "source": [
    "knn = KNeighborsClassifier(n_neighbors=7)"
   ]
  },
  {
   "cell_type": "code",
   "execution_count": 35,
   "id": "6cf7e2de",
   "metadata": {},
   "outputs": [
    {
     "data": {
      "text/plain": [
       "KNeighborsClassifier(n_neighbors=7)"
      ]
     },
     "execution_count": 35,
     "metadata": {},
     "output_type": "execute_result"
    }
   ],
   "source": [
    "knn.fit(X_train, y_train)"
   ]
  },
  {
   "cell_type": "code",
   "execution_count": 36,
   "id": "ece00aad",
   "metadata": {},
   "outputs": [
    {
     "name": "stdout",
     "output_type": "stream",
     "text": [
      "0.9833333333333333\n"
     ]
    }
   ],
   "source": [
    "print(knn.score(X_test, y_test))"
   ]
  },
  {
   "cell_type": "code",
   "execution_count": null,
   "id": "8d472d49",
   "metadata": {},
   "outputs": [],
   "source": []
  },
  {
   "cell_type": "code",
   "execution_count": null,
   "id": "f1aebd69",
   "metadata": {},
   "outputs": [],
   "source": []
  }
 ],
 "metadata": {
  "kernelspec": {
   "display_name": "Python 3 (ipykernel)",
   "language": "python",
   "name": "python3"
  },
  "language_info": {
   "codemirror_mode": {
    "name": "ipython",
    "version": 3
   },
   "file_extension": ".py",
   "mimetype": "text/x-python",
   "name": "python",
   "nbconvert_exporter": "python",
   "pygments_lexer": "ipython3",
   "version": "3.9.7"
  }
 },
 "nbformat": 4,
 "nbformat_minor": 5
}
